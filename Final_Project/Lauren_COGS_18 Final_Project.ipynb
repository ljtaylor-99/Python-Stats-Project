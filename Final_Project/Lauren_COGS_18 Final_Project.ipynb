{
 "cells": [
  {
   "cell_type": "code",
   "execution_count": 1,
   "metadata": {},
   "outputs": [
    {
     "name": "stdout",
     "output_type": "stream",
     "text": [
      "\u001b[1m============================= test session starts ==============================\u001b[0m\n",
      "platform darwin -- Python 3.7.6, pytest-5.3.5, py-1.8.1, pluggy-0.13.1\n",
      "rootdir: /Users/laurentaylor/Final_Project\n",
      "plugins: hypothesis-5.5.4, arraydiff-0.3, remotedata-0.3.2, openfiles-0.4.0, doctestplus-0.5.0, astropy-header-0.1.2\n",
      "collected 3 items                                                              \u001b[0m\u001b[1m\n",
      "\n",
      "functions/test_functions.py \u001b[32m.\u001b[0m\u001b[32m.\u001b[0m\u001b[32m.\u001b[0m\u001b[32m                                          [100%]\u001b[0m\n",
      "\n",
      "\u001b[32m============================== \u001b[32m\u001b[1m3 passed\u001b[0m\u001b[32m in 0.56s\u001b[0m\u001b[32m ===============================\u001b[0m\n"
     ]
    }
   ],
   "source": [
    "!pytest functions/test_functions.py"
   ]
  },
  {
   "cell_type": "code",
   "execution_count": 2,
   "metadata": {},
   "outputs": [],
   "source": [
    "import sys\n",
    "sys.path.append('functions/')\n",
    "import vals as vals\n",
    "from final import *\n"
   ]
  },
  {
   "cell_type": "markdown",
   "metadata": {},
   "source": [
    "# Overview\n",
    "In my project I decided to create functions that calculate statistics. I have taken COGS 14b, a statistics course recently and I thought it would be interesting to connect that material to what I learned in COGS 18. \n",
    "\n",
    "My first fuction calculates the correlation coefficent r and plots the data inputed on a scatter plot. My second and third function deal with inferential statistics. The functions run a single and independent sample t test respectively. \n",
    "\n",
    "To demonstrate my code I will use it to solve some statistical problems."
   ]
  },
  {
   "cell_type": "markdown",
   "metadata": {},
   "source": [
    "## Correlation Coefficents\n",
    "\n",
    "One way to measure the relationship between variables. The code below calculates the correlation coefficent, Pearson's r. Note this only works for linear relationships between two variables. \n",
    "\n",
    "Let us use this code to solve a reasearch problem. Say a researcher wanted to understand the relationshiop between age and happiness. The researcher then records a person's age in years and then records their score on a happiness questionaire, with a higher score indicating more happiness. Below are some possible results. \n",
    "\n",
    "Age: (23, 32, 21, 20, 27, 31, 45, 52, 40, 40)\n",
    "\n",
    "Happiness Score: (24, 43, 38, 34, 26, 55, 50, 48, 43, 36)"
   ]
  },
  {
   "cell_type": "code",
   "execution_count": 3,
   "metadata": {
    "scrolled": true
   },
   "outputs": [],
   "source": [
    "#Get info about correlation function\n",
    "corr_coef?"
   ]
  },
  {
   "cell_type": "code",
   "execution_count": 4,
   "metadata": {},
   "outputs": [
    {
     "data": {
      "text/plain": [
       "0.5883549191553927"
      ]
     },
     "execution_count": 4,
     "metadata": {},
     "output_type": "execute_result"
    },
    {
     "data": {
      "image/png": "[encoded data removed]",
      "text/plain": [
       "<Figure size 432x288 with 1 Axes>"
      ]
     },
     "metadata": {
      "needs_background": "light"
     },
     "output_type": "display_data"
    }
   ],
   "source": [
    "#Run function using values from above\n",
    "corr_coef([23, 32, 21, 20, 27, 31, 45, 52, 40, 40],[24, 43, 38, 34, 26, 55, 50, 48, 43, 36])\n"
   ]
  },
  {
   "cell_type": "markdown",
   "metadata": {},
   "source": [
    "#### Results\n",
    "\n",
    "Based on our results we can conclude that there is a moderate, positive correlation between age and happiness. "
   ]
  },
  {
   "cell_type": "markdown",
   "metadata": {},
   "source": [
    "## Hypothesis Tests\n",
    "\n",
    "Hypothesis testing is a form of inferential statistics. It is used in scientific studies to determine wether a sample mean is signifcantly different from another mean wether it be a population mean or a different sample. Below is a demonstration of code that runs t-tests, a type of hypothesis test.\n",
    "\n",
    "### Single sample t Test for One Sample\n",
    "\n",
    "A single sample t test is used when you have 1 group and you want to compare the sample mean to a hypothized population mean. Like we did with the correlation coefficent function let's solve a problem.\n",
    "\n",
    "Imagine a school wanted to know wether their students' standardized test scores differ from the the national average. Below is some info that will help us solve the problem. For the sake of this problem let's use a small sample and assume that the population we are drawing from is normally distributed.\n",
    "\n",
    "Scores:(250, 320, 247, 302, 270) \n",
    "\n",
    "Hypothetical Population Avg. = 300\n",
    "\n",
    "Directional Test = False (non directional)\n",
    "\n",
    "Level of significance = .05"
   ]
  },
  {
   "cell_type": "code",
   "execution_count": 5,
   "metadata": {},
   "outputs": [],
   "source": [
    "# Get info about function\n",
    "t_test_single?"
   ]
  },
  {
   "cell_type": "code",
   "execution_count": 6,
   "metadata": {
    "scrolled": true
   },
   "outputs": [
    {
     "name": "stdout",
     "output_type": "stream",
     "text": [
      "Darn it! The results are not significant. Fail to reject the null hypothesis\n",
      "Critical Value = 2.776\n"
     ]
    },
    {
     "data": {
      "text/plain": [
       "-1.5413693632858922"
      ]
     },
     "execution_count": 6,
     "metadata": {},
     "output_type": "execute_result"
    }
   ],
   "source": [
    "# Run function using the info\n",
    "t_test_single([250, 320, 247, 302, 270], 300, False, .05)"
   ]
  },
  {
   "cell_type": "markdown",
   "metadata": {},
   "source": [
    "#### Results\n",
    "It looks like the school average was lower than the national average, but not significantly. In this case we would fail to reject the null hypothesis."
   ]
  },
  {
   "cell_type": "markdown",
   "metadata": {},
   "source": [
    "### t Test for Independent Samples\n",
    "\n",
    "A t Test for Independent Samples is similar to a single one except it looks for differences between 2 groups. Again let us approach a research problem.\n",
    "\n",
    "Say scientists were testing a new pain reliver and wanted to know wether or not it significantly affected reported pain on a scale from 1 to 10. In this experiment they are comparing the drug with a placebo. Below is the info to solve the problem. Like before we are using a small sample size and assuming we are drawing our sample from a normal population.\n",
    "\n",
    "Treatment Group = (5,6,7,4,5)\n",
    "\n",
    "Placebo Group = (7,8,8,6,7)\n",
    "\n",
    "Directional Test = False (non-directional)\n",
    "\n",
    "Level of Significance = .05"
   ]
  },
  {
   "cell_type": "code",
   "execution_count": 7,
   "metadata": {},
   "outputs": [],
   "source": [
    "# Get info about function\n",
    "t_test_indsamples?"
   ]
  },
  {
   "cell_type": "code",
   "execution_count": 8,
   "metadata": {},
   "outputs": [
    {
     "name": "stdout",
     "output_type": "stream",
     "text": [
      "Congrats! The results are significant. Reject the null hypothesis\n",
      "Critical Value = 2.306\n"
     ]
    },
    {
     "data": {
      "text/plain": [
       "-2.846049894151541"
      ]
     },
     "execution_count": 8,
     "metadata": {},
     "output_type": "execute_result"
    }
   ],
   "source": [
    "t_test_indsamples([5,6,7,4,5], [7, 8, 8, 6, 7], False, .05)"
   ]
  },
  {
   "cell_type": "markdown",
   "metadata": {},
   "source": [
    "#### Results\n",
    "\n",
    "The drug seems to significantly reduce pain in the individuals who take it. In this case we reject the null hypothesis."
   ]
  },
  {
   "cell_type": "markdown",
   "metadata": {},
   "source": [
    "### Extra Credit\n",
    "\n",
    "I think I deserve extra credit because before this class I had little experience in programming. Also I learned how to use matplotlib which went beyond what we learned in class. I additionally connected material to statistical subjects I learned previously in COGS 14b."
   ]
  }
 ],
 "metadata": {
  "kernelspec": {
   "display_name": "Python 3",
   "language": "python",
   "name": "python3"
  },
  "language_info": {
   "codemirror_mode": {
    "name": "ipython",
    "version": 3
   },
   "file_extension": ".py",
   "mimetype": "text/x-python",
   "name": "python",
   "nbconvert_exporter": "python",
   "pygments_lexer": "ipython3",
   "version": "3.7.6"
  }
 },
 "nbformat": 4,
 "nbformat_minor": 4
}
